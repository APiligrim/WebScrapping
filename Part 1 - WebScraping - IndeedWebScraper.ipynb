{
 "cells": [
  {
   "cell_type": "markdown",
   "metadata": {},
   "source": [
    "# Part 1:  Web Scraping with Beautiful Soup\n",
    "### Main Idea: Web Scrape the website Indeed.com to see internship openings for open Software Engineering Internship positions and spot trends for:\n",
    "\n",
    "    - programming skills (languages, frameworks, types of experiences) that are most in demand \n",
    "    - popular skill requirements by employers\n",
    "    - compare how salary for SE interns (if available) is different across different states \n",
    "    - does company rating affect salary \n",
    "    \n",
    "#### I have also uploaded the whole project to **github**: https://github.com/APiligrim/WebScrapping"
   ]
  },
  {
   "cell_type": "code",
   "execution_count": 6,
   "metadata": {},
   "outputs": [],
   "source": [
    "import pandas as pd\n",
    "import numpy as np\n",
    "import matplotlib.pyplot as plt\n",
    "import seaborn as sns\n",
    "%matplotlib inline\n",
    "\n",
    "from bs4 import BeautifulSoup"
   ]
  },
  {
   "cell_type": "code",
   "execution_count": null,
   "metadata": {},
   "outputs": [],
   "source": [
    "link=\"https://www.indeed.com/jobs?q=software+engineer+intern&start={}\"\n",
    "df = pd.DataFrame(columns=[\"Title\",\"Location\",\"Company\",\"Salary\",\"Describtion\",\"Requirements\",\"Rating\"])\n",
    "import requests\n",
    "import time\n",
    "for page in range(0,1300): #scrape 1300 pages with about 15 to 18 jobs per page\n",
    "    source = link.format(page) \n",
    "    html =requests.get(source)\n",
    "    soup = BeautifulSoup(html.content, 'html.parser', from_encoding=\"utf-8\")\n",
    "    for rows in soup.find_all(class_= \"result\" ):\n",
    "        \n",
    "        # get title\n",
    "        try: \n",
    "            title = rows.find(class_='jobtitle').text.strip()\n",
    "        except:\n",
    "            title = 'NaN'\n",
    "        \n",
    "        # get location\n",
    "        try:\n",
    "            location = rows.find('span', {'class':'location'}).text.replace('\\n', '')\n",
    "        except:\n",
    "            location = 'NaN'\n",
    "            \n",
    "        #get company name\n",
    "        try: \n",
    "            company = rows.find('span', {'class':'company'}).text.replace('\\n', '')\n",
    "        except:\n",
    "            company = 'NaN'\n",
    "            \n",
    "        # get salary\n",
    "        try:\n",
    "            salary = rows.find('span', {'class':'salaryText'}).text.replace('\\n', '')\n",
    "        except:\n",
    "            salary='NaN'\n",
    "            \n",
    "        # get job describtion\n",
    "        try:\n",
    "            describtion= rows.find('div',{'class':'summary'}).text.replace('\\n', '')\n",
    "        except:\n",
    "            describtion='NaN'\n",
    "            \n",
    "        # get rating\n",
    "        try:\n",
    "            rating= rows.find('span', {'class':'ratingsDisplay'}).text.replace('\\n', '')\n",
    "        except:\n",
    "            rating='NaN'  \n",
    "            \n",
    "        #required\n",
    "        try:\n",
    "            required=rows.find('div', {'class':'jobCardReqList'}).text.replace('\\n', '')\n",
    "        except:\n",
    "            required='NaN'\n",
    "        #synopsis = each.find('span', {'class':'summary'}).text.replace('\\n', '')\n",
    "        df = df.append({'Title':title, 'Location':location, 'Company':company, 'Salary':salary,'Describtion':describtion,'Rating':rating,'Requirements':required}, ignore_index=True)\n",
    "  "
   ]
  },
  {
   "cell_type": "code",
   "execution_count": null,
   "metadata": {},
   "outputs": [],
   "source": [
    "df"
   ]
  },
  {
   "cell_type": "code",
   "execution_count": null,
   "metadata": {},
   "outputs": [],
   "source": [
    "#save the scraped file\n",
    "import csv\n",
    "df.to_csv('WebScraper.csv', encoding='utf-8')"
   ]
  }
 ],
 "metadata": {
  "kernelspec": {
   "display_name": "Python 3",
   "language": "python",
   "name": "python3"
  },
  "language_info": {
   "codemirror_mode": {
    "name": "ipython",
    "version": 3
   },
   "file_extension": ".py",
   "mimetype": "text/x-python",
   "name": "python",
   "nbconvert_exporter": "python",
   "pygments_lexer": "ipython3",
   "version": "3.7.6"
  }
 },
 "nbformat": 4,
 "nbformat_minor": 4
}
